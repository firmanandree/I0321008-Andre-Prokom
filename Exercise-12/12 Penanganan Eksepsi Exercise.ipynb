{
 "cells": [
  {
   "cell_type": "markdown",
   "metadata": {},
   "source": [
    "***\n",
    "<h1 align=\"center\">Exercise 12</h1>\n",
    " \n",
    "***\n",
    "## Exeption\n",
    "## Exercise 12.1\n",
    "\n",
    "Salinlah code yang ada pada contoh 12.1"
   ]
  },
  {
   "cell_type": "code",
   "execution_count": 2,
   "metadata": {},
   "outputs": [
    {
     "name": "stdout",
     "output_type": "stream",
     "text": [
      "An exception occured\n"
     ]
    }
   ],
   "source": [
    "#kerjakan disini\n",
    "try:\n",
    "    print(x)\n",
    "except:\n",
    "    print(\"An exception occured\")"
   ]
  },
  {
   "cell_type": "markdown",
   "metadata": {},
   "source": [
    "## Exercise 12.2\n",
    "\n",
    "Salinlah code yang ada pada contoh 12.2"
   ]
  },
  {
   "cell_type": "code",
   "execution_count": 3,
   "metadata": {},
   "outputs": [
    {
     "name": "stdout",
     "output_type": "stream",
     "text": [
      "teknik\n"
     ]
    }
   ],
   "source": [
    "#kerjakan disini\n",
    "try:\n",
    "    x = 'teknik'\n",
    "    print(x)\n",
    "except:\n",
    "    print(\"An exception occured\")"
   ]
  },
  {
   "cell_type": "markdown",
   "metadata": {},
   "source": [
    "## Exercise 12.3\n",
    "\n",
    "Salinlah code yang ada pada contoh 12.3"
   ]
  },
  {
   "cell_type": "code",
   "execution_count": 4,
   "metadata": {},
   "outputs": [
    {
     "ename": "SyntaxError",
     "evalue": "Missing parentheses in call to 'print'. Did you mean print(...)? (2218308493.py, line 5)",
     "output_type": "error",
     "traceback": [
      "\u001b[1;36m  Input \u001b[1;32mIn [4]\u001b[1;36m\u001b[0m\n\u001b[1;33m    print '\\nKenapa sudah EOF?'\u001b[0m\n\u001b[1;37m    ^\u001b[0m\n\u001b[1;31mSyntaxError\u001b[0m\u001b[1;31m:\u001b[0m Missing parentheses in call to 'print'. Did you mean print(...)?\n"
     ]
    }
   ],
   "source": [
    "#kerjakan disini\n",
    "try:\n",
    "    teks = raw_input('Ketikan sesuatu: ')\n",
    "except EOFError:\n",
    "    print '\\nKenapa sudah EOF?'\n",
    "except KeyboardInterrupt:\n",
    "    print '\\nAnda membatalkan opeasi'\n",
    "else:\n",
    "    print 'Anda mengetikkan pesan\"%s\"' % teks"
   ]
  },
  {
   "cell_type": "markdown",
   "metadata": {},
   "source": [
    "## Exercise 12.4\n",
    "\n",
    "Salinlah code yang ada pada contoh 12.4"
   ]
  },
  {
   "cell_type": "code",
   "execution_count": 5,
   "metadata": {},
   "outputs": [
    {
     "ename": "SyntaxError",
     "evalue": "Missing parentheses in call to 'print'. Did you mean print(...)? (2218308493.py, line 5)",
     "output_type": "error",
     "traceback": [
      "\u001b[1;36m  Input \u001b[1;32mIn [5]\u001b[1;36m\u001b[0m\n\u001b[1;33m    print '\\nKenapa sudah EOF?'\u001b[0m\n\u001b[1;37m    ^\u001b[0m\n\u001b[1;31mSyntaxError\u001b[0m\u001b[1;31m:\u001b[0m Missing parentheses in call to 'print'. Did you mean print(...)?\n"
     ]
    }
   ],
   "source": [
    "#kerjakan disini\n",
    "try:\n",
    "    teks = raw_input('Ketikan sesuatu: ')\n",
    "except EOFError:\n",
    "    print '\\nKenapa sudah EOF?'\n",
    "except KeyboardInterrupt:\n",
    "    print '\\nAnda membatalkan opeasi'\n",
    "else:\n",
    "    print 'Anda mengetikkan pesan\"%s\"' % teks"
   ]
  },
  {
   "cell_type": "markdown",
   "metadata": {},
   "source": [
    "## Exercise 12.5\n",
    "\n",
    "Salinlah code yang ada pada contoh 12.5"
   ]
  },
  {
   "cell_type": "code",
   "execution_count": 6,
   "metadata": {},
   "outputs": [
    {
     "ename": "SyntaxError",
     "evalue": "Missing parentheses in call to 'print'. Did you mean print(...)? (3076704073.py, line 11)",
     "output_type": "error",
     "traceback": [
      "\u001b[1;36m  Input \u001b[1;32mIn [6]\u001b[1;36m\u001b[0m\n\u001b[1;33m    print baris,\u001b[0m\n\u001b[1;37m    ^\u001b[0m\n\u001b[1;31mSyntaxError\u001b[0m\u001b[1;31m:\u001b[0m Missing parentheses in call to 'print'. Did you mean print(...)?\n"
     ]
    }
   ],
   "source": [
    "#kerjakan disini\n",
    "import time\n",
    "\n",
    "try:\n",
    "    f = open('coba.txt')\n",
    "    while True:\n",
    "        baris = f.readline()\n",
    "        if len(baris) == 0:\n",
    "            # EOF\n",
    "            break\n",
    "        print baris,\n",
    "        time.sleep(2) #delay 2 detik\n",
    "except KeyboardInterrupt:\n",
    "    print '\\nAnda membatalkan opeasi'\n",
    "finally:\n",
    "    f.close()\n",
    "    print '\\nfile ditutup.'"
   ]
  },
  {
   "cell_type": "markdown",
   "metadata": {},
   "source": [
    "***\n",
    "<h1 align=\"center\">WELL DONE</h1>\n",
    " \n",
    "***"
   ]
  }
 ],
 "metadata": {
  "kernelspec": {
   "display_name": "Python 3.10.2 64-bit",
   "language": "python",
   "name": "python3"
  },
  "language_info": {
   "codemirror_mode": {
    "name": "ipython",
    "version": 3
   },
   "file_extension": ".py",
   "mimetype": "text/x-python",
   "name": "python",
   "nbconvert_exporter": "python",
   "pygments_lexer": "ipython3",
   "version": "3.10.2"
  },
  "orig_nbformat": 4,
  "vscode": {
   "interpreter": {
    "hash": "486e215f80a541a41bd52f7fb0132168858f5740638932e040a568ca0832bfa2"
   }
  }
 },
 "nbformat": 4,
 "nbformat_minor": 2
}
