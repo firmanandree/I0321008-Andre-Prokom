{
 "cells": [
  {
   "cell_type": "markdown",
   "metadata": {},
   "source": [
    "***\n",
    "<h1 align=\"center\">Exercise 06</h1>\n",
    " \n",
    "***\n",
    "## While Loop\n",
    "## Exercise 6.1\n",
    "isilah bagian rumpang berikut. xx diganti tanggal lahir dan yy diganti menjadi bulan lahir. tandanya menyesuaikan yang lebih besar."
   ]
  },
  {
   "cell_type": "code",
   "execution_count": 2,
   "metadata": {},
   "outputs": [
    {
     "name": "stdout",
     "output_type": "stream",
     "text": [
      "semangat\n",
      "semangat\n",
      "semangat\n",
      "semangat\n",
      "semangat\n",
      "semangat\n",
      "semangat\n",
      "semangat\n",
      "semangat\n",
      "semangat\n",
      "semangat\n",
      "semangat\n",
      "semangat\n",
      "semangat\n",
      "semangat\n",
      "semangat\n",
      "semangat\n"
     ]
    }
   ],
   "source": [
    "#menentukan banyak pengulangan\n",
    "n = 27\n",
    "\n",
    "#melakukan pengulangan\n",
    "i = 11\n",
    "\n",
    "while i <= n :\n",
    "    print (\"semangat\")\n",
    "    #diisi motto kalian\n",
    "    i = i + 1 # sesuaikan dengan atas agar fungsi perulangan dapat berhenti\n"
   ]
  },
  {
   "cell_type": "markdown",
   "metadata": {},
   "source": [
    "## Exercise 6.2\n",
    "\n",
    "Buatlah code seperti yang dicontohkan pada modul agar user dapat menginputkan sendiri jumlah n yang diinginkan"
   ]
  },
  {
   "cell_type": "code",
   "execution_count": 16,
   "metadata": {},
   "outputs": [
    {
     "name": "stdout",
     "output_type": "stream",
     "text": [
      "semangat\n",
      "semangat\n",
      "semangat\n",
      "semangat\n",
      "semangat\n",
      "semangat\n",
      "semangat\n",
      "semangat\n",
      "semangat\n",
      "semangat\n",
      "semangat\n",
      "semangat\n"
     ]
    }
   ],
   "source": [
    "#Kerjakan disini\n",
    "n = int(input(\"Masukkan nilai n : \"))\n",
    "i = 11\n",
    "\n",
    "while i <= n :\n",
    "    print (\"semangat\")\n",
    "    i = i + 1 \n",
    "\n"
   ]
  },
  {
   "cell_type": "markdown",
   "metadata": {},
   "source": [
    "## Excercise 6.3\n",
    "\n",
    "isilah xx, yy, dan tanda rumpang seperti pada exercise 6.1\n"
   ]
  },
  {
   "cell_type": "markdown",
   "metadata": {},
   "source": [
    "#melakukan pengulangan\n",
    "i = 11\n",
    "\n",
    "while i <= 27 :\n",
    "    print (\"Baris ke-%d : Hunger Games\"%i)\n",
    "    #isi titik-titik dengan judul film favorit kalian\n",
    "    i = i + 1 "
   ]
  },
  {
   "cell_type": "markdown",
   "metadata": {},
   "source": [
    "## FOR LOOP\n",
    "\n",
    "## Exercise 6.4\n",
    "\n",
    "munculkan 3 dari 7 elemen yang berada di dalam list1 dan list2\n"
   ]
  },
  {
   "cell_type": "code",
   "execution_count": 39,
   "metadata": {},
   "outputs": [
    {
     "name": "stdout",
     "output_type": "stream",
     "text": [
      "2 , Mie Goreng , Wonogiri\n",
      "4 , Mie Tektek , Pacitan\n",
      "6 , Mie Jawa , Solo\n"
     ]
    }
   ],
   "source": [
    "list1 = [\"Mie Ayam\", \"Mie Goreng\", \"Mie Aceh\", \"Mie Tektek\", \"Mie Rebus\", \"Mie Jawa\", \"Mie Gacoan\"] #masukkan 7 list makanan favorit kalian\n",
    "list2 = [\"Tangerang\", \"Wonogiri\", \"Kediri\", \"Pacitan\", \"Bogor\", \"Solo\", \"Tangerang Selatan\"] #masukkan 7 list kota favorit kalian\n",
    "\n",
    "for i in range(1,7,2):\n",
    "    print(i+1,\",\", list1[i] ,\",\" , list2[i])"
   ]
  },
  {
   "cell_type": "markdown",
   "metadata": {},
   "source": [
    "## Perulangan Bersarang\n",
    "\n",
    "## Exercise 6.5"
   ]
  },
  {
   "cell_type": "code",
   "execution_count": 2,
   "metadata": {},
   "outputs": [
    {
     "name": "stdout",
     "output_type": "stream",
     "text": [
      "121 \n",
      "132 144 \n",
      "143 156 169 \n",
      "154 168 182 196 \n",
      "165 180 195 210 225 \n",
      "176 192 208 224 240 256 \n",
      "187 204 221 238 255 272 289 \n",
      "198 216 234 252 270 288 306 324 \n",
      "209 228 247 266 285 304 323 342 361 \n",
      "220 240 260 280 300 320 340 360 380 400 \n",
      "231 252 273 294 315 336 357 378 399 420 441 \n",
      "242 264 286 308 330 352 374 396 418 440 462 484 \n",
      "253 276 299 322 345 368 391 414 437 460 483 506 529 \n",
      "264 288 312 336 360 384 408 432 456 480 504 528 552 576 \n",
      "275 300 325 350 375 400 425 450 475 500 525 550 575 600 625 \n",
      "286 312 338 364 390 416 442 468 494 520 546 572 598 624 650 676 \n",
      "297 324 351 378 405 432 459 486 513 540 567 594 621 648 675 702 729 \n"
     ]
    }
   ],
   "source": [
    "i = 11\n",
    "while i <= 27:\n",
    "    j = 11\n",
    "    while j<=i:\n",
    "        print(\"%d \" % (i*j), end = '')\n",
    "        j = j + 1\n",
    "    print()\n",
    "    i = i + 1"
   ]
  },
  {
   "cell_type": "markdown",
   "metadata": {},
   "source": [
    "## Pernyataan Loncat\n",
    "\n",
    "## Exercise 6.\n",
    "\n",
    "Buatlah fungsi berikut agar muncul angka hingga berhenti sesuai dengan nilai qq\n",
    "qq = angka favorit kalian\n",
    "pp>qq"
   ]
  },
  {
   "cell_type": "code",
   "execution_count": 22,
   "metadata": {},
   "outputs": [
    {
     "name": "stdout",
     "output_type": "stream",
     "text": [
      "01234567891011"
     ]
    }
   ],
   "source": [
    "for i in range(22):\n",
    "    print(i,end='')\n",
    "    if i == 11:\n",
    "        break"
   ]
  },
  {
   "cell_type": "markdown",
   "metadata": {},
   "source": [
    "***\n",
    "<h1 align=\"center\">WELL DONE</h1>\n",
    " \n",
    "***"
   ]
  }
 ],
 "metadata": {
  "interpreter": {
   "hash": "cd08f94adcf3cbae37fe85286256f4c2a10455ca9094fd053e9f3d3f09647223"
  },
  "kernelspec": {
   "display_name": "Python 3.9.7 64-bit",
   "language": "python",
   "name": "python3"
  },
  "language_info": {
   "codemirror_mode": {
    "name": "ipython",
    "version": 3
   },
   "file_extension": ".py",
   "mimetype": "text/x-python",
   "name": "python",
   "nbconvert_exporter": "python",
   "pygments_lexer": "ipython3",
   "version": "3.10.2"
  },
  "orig_nbformat": 4
 },
 "nbformat": 4,
 "nbformat_minor": 2
}
